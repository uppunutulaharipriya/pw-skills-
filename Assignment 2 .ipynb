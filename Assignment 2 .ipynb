{
 "cells": [
  {
   "cell_type": "code",
   "execution_count": 2,
   "id": "6d4c5f17-1008-41bb-ac64-1ba0c434a31e",
   "metadata": {},
   "outputs": [
    {
     "name": "stdout",
     "output_type": "stream",
     "text": [
      "slliks WP no esruoc orp ecneics ataD gninrael ma I\n"
     ]
    }
   ],
   "source": [
    "#1. Reverse a String \n",
    "# I have given -1 basedbon scling concept \n",
    "h=\"I am learning Data science pro course on PW skills\"[::-1]\n",
    "print(h)"
   ]
  },
  {
   "cell_type": "code",
   "execution_count": 8,
   "id": "f32fd046-efef-4655-828e-98fb2ab47a21",
   "metadata": {},
   "outputs": [
    {
     "name": "stdout",
     "output_type": "stream",
     "text": [
      "String is Palindrome.\n"
     ]
    }
   ],
   "source": [
    "2.# checking palindrome \n",
    "A=\"Rotator\"\n",
    "b=A.casefold()\n",
    "r=reversed(b)\n",
    "if(list (b) ) == list( r):\n",
    "    print(\"String is Palindrome.\")\n",
    "else:\n",
    "    print(\"String is not Palindrome.\")"
   ]
  },
  {
   "cell_type": "code",
   "execution_count": 9,
   "id": "a35c1f46-2764-451d-9497-1890b304742e",
   "metadata": {},
   "outputs": [
    {
     "name": "stdout",
     "output_type": "stream",
     "text": [
      "I AM LEARNING PYTHON\n"
     ]
    }
   ],
   "source": [
    "#3.Upper case\n",
    "r=\"i am learning python\"\n",
    "print(r.upper())"
   ]
  },
  {
   "cell_type": "code",
   "execution_count": 10,
   "id": "582332f0-0a15-4fb0-a202-9bcb0c357939",
   "metadata": {},
   "outputs": [
    {
     "name": "stdout",
     "output_type": "stream",
     "text": [
      "i need be in goodposition\n"
     ]
    }
   ],
   "source": [
    "#4.Lower case\n",
    "i=\"I NEED BE IN GOODPOSITION\"\n",
    "print(i.lower())"
   ]
  },
  {
   "cell_type": "code",
   "execution_count": 12,
   "id": "29df0c10-087d-49e7-a595-242019a6494b",
   "metadata": {},
   "outputs": [
    {
     "name": "stdout",
     "output_type": "stream",
     "text": [
      "The number of vowels in the string are: 4\n"
     ]
    }
   ],
   "source": [
    "#5.no of vowels in strimg\n",
    "h=\"Haripriya\"\n",
    "vowels=\"aeiouAEIOU\"\n",
    "count = sum(h.count(vowel) for vowel in vowels)\n",
    "print(\"The number of vowels in the string are:\" ,count)"
   ]
  },
  {
   "cell_type": "code",
   "execution_count": 24,
   "id": "be37aa98-00d5-4f3c-afad-b7755f902617",
   "metadata": {},
   "outputs": [
    {
     "name": "stdout",
     "output_type": "stream",
     "text": [
      "Number of consonants: 7\n"
     ]
    }
   ],
   "source": [
    "#6. no of Consonant in string \n",
    "def count_consonants(x):\n",
    "    consonants = 'bcdfghjklmnpqrstvwxyzBCDFGHJKLMNPQRSTVWXYZ'\n",
    "    count = 0\n",
    "    \n",
    "    for char in x:\n",
    "        if char in consonants:\n",
    "            count += 1\n",
    "            \n",
    "    return count\n",
    "x=\"Hello world\"\n",
    "consonant_count = count_consonants(x)\n",
    "print(f\"Number of consonants: {consonant_count}\")\n"
   ]
  },
  {
   "cell_type": "code",
   "execution_count": 25,
   "id": "5ccf721d-96e5-4509-83b7-950aded98ad5",
   "metadata": {},
   "outputs": [
    {
     "name": "stdout",
     "output_type": "stream",
     "text": [
      "After removing white space: Removewhitespacesfromstring\n"
     ]
    }
   ],
   "source": [
    "#7.removing blank space \n",
    "h=\"Remove white spaces from string\"\n",
    "h=h.replace(\" \",\"\")\n",
    "print(\"After removing white space:\",h)"
   ]
  },
  {
   "cell_type": "code",
   "execution_count": 37,
   "id": "deeeb2ec-bbae-4b94-af6b-7eec420516c2",
   "metadata": {},
   "outputs": [
    {
     "name": "stdout",
     "output_type": "stream",
     "text": [
      "Length of the string: 13\n"
     ]
    }
   ],
   "source": [
    "#8. Find the length of a string without using the `len()` function.\n",
    "x=\"Hello, World!\"\n",
    "def custom_len(x):\n",
    "    count = 0\n",
    "    for _ in x:\n",
    "        count += 1\n",
    "    return count\n",
    "string_length = custom_len(x)\n",
    "print(f\"Length of the string: {string_length}\")"
   ]
  },
  {
   "cell_type": "code",
   "execution_count": 42,
   "id": "444eaea3-9fec-4524-8162-f7f0856614a7",
   "metadata": {},
   "outputs": [
    {
     "name": "stdout",
     "output_type": "stream",
     "text": [
      "The string contains the word 'are'.\n"
     ]
    }
   ],
   "source": [
    "#9.Check if a string contains a specific word.\n",
    "x='Hello, World! How are you doing?'\n",
    "y='are'\n",
    "\n",
    "def contains_word(x, y):\n",
    "    return y in x\n",
    "if contains_word(x, y):\n",
    "    print(f\"The string contains the word '{y}'.\")\n",
    "else:\n",
    "    print(f\"The string does not contain the word '{y}'.\")"
   ]
  },
  {
   "cell_type": "code",
   "execution_count": 46,
   "id": "d6b3a522-6f9a-49e6-bf5e-274303a513fb",
   "metadata": {},
   "outputs": [
    {
     "name": "stdout",
     "output_type": "stream",
     "text": [
      "i like grapes\n"
     ]
    }
   ],
   "source": [
    "#10.Replace a word in a string with another word.\n",
    "txt=\"i like apples\"\n",
    "b=txt.replace(\"apples\",\"grapes\")\n",
    "print(b)"
   ]
  },
  {
   "cell_type": "code",
   "execution_count": 49,
   "id": "add7d31a-18bf-454e-9f81-69c65d4887a5",
   "metadata": {},
   "outputs": [
    {
     "name": "stdout",
     "output_type": "stream",
     "text": [
      "The word 'how' appears 2 times in the string.\n"
     ]
    }
   ],
   "source": [
    "#11.Count the occurrences of a word in a string.\n",
    "def a(x, y):\n",
    "    return x.lower().count(y.lower())\n",
    "\n",
    "# Example usage\n",
    "x = \"Hello, how are you? How's it going? Are you feeling good?\"\n",
    "y = \"how\"\n",
    "occurrences = a(x, y)\n",
    "print(f\"The word '{y}' appears {occurrences} times in the string.\")\n"
   ]
  },
  {
   "cell_type": "code",
   "execution_count": 8,
   "id": "4a8645f1-acdd-424e-aa42-d0d5268ff09a",
   "metadata": {},
   "outputs": [
    {
     "name": "stdout",
     "output_type": "stream",
     "text": [
      "The first occurance word is: 10\n"
     ]
    }
   ],
   "source": [
    "#12.Find the last occurrence of a word in a string.\n",
    "text = \"This is a sample text. This text contains the word 'sample'.\"\n",
    "p=text.find(\"This\")\n",
    "print(\"The first occurance word is:\",p)\n"
   ]
  },
  {
   "cell_type": "code",
   "execution_count": 10,
   "id": "ca277135-0ab0-4e4a-be8f-73a843c4f733",
   "metadata": {},
   "outputs": [
    {
     "name": "stdout",
     "output_type": "stream",
     "text": [
      "The last occurance word is: 12\n"
     ]
    }
   ],
   "source": [
    "#13.Find the last occurrence of a word in a string.\n",
    "txt = \"Mi casa, su casa.\"\n",
    "\n",
    "x = txt.rindex(\"casa\")\n",
    "\n",
    "print(\"The last occurance word is:\",x)"
   ]
  },
  {
   "cell_type": "code",
   "execution_count": 14,
   "id": "e288fcfe-0bd3-493f-93bb-844bc91ead12",
   "metadata": {},
   "outputs": [
    {
     "name": "stdout",
     "output_type": "stream",
     "text": [
      "['The', 'string', 'that', 'need', 'to', 'split']\n"
     ]
    }
   ],
   "source": [
    "#14.Split a string into a list of words.\n",
    "p=\"The string that need to split\"\n",
    "x=p.split()\n",
    "print(x)"
   ]
  },
  {
   "cell_type": "code",
   "execution_count": 19,
   "id": "da403bba-134a-4645-bf04-349026134368",
   "metadata": {},
   "outputs": [
    {
     "name": "stdout",
     "output_type": "stream",
     "text": [
      "Thestringthatneedtosplit\n"
     ]
    }
   ],
   "source": [
    "#15.Join a list of words into a string.\n",
    "H=['The', 'string', 'that', 'need', 'to', 'split']\n",
    "R=''\n",
    "A=R.join(H)\n",
    "print(A)"
   ]
  },
  {
   "cell_type": "code",
   "execution_count": 23,
   "id": "8e7d66b9-dcdc-4c25-a0a0-07a4a5db7d46",
   "metadata": {},
   "outputs": [
    {
     "name": "stdout",
     "output_type": "stream",
     "text": [
      "The_string_that_need_to_split\n"
     ]
    }
   ],
   "source": [
    "#16.16. Convert a string where words are separated by spaces to one where wordsare separated by underscores.\n",
    "P=\"The string that need to split\"\n",
    "a=p.replace(' ','_')\n",
    "print(a)\n"
   ]
  },
  {
   "cell_type": "code",
   "execution_count": 28,
   "id": "0b92b786-e3ae-4ad7-881e-4d0d7ebdace1",
   "metadata": {},
   "outputs": [
    {
     "name": "stdout",
     "output_type": "stream",
     "text": [
      "The starting of the string is: Hello\n"
     ]
    }
   ],
   "source": [
    "#17. Check if a string starts with a specific word or phrase.\n",
    "p=\"Hello, how are you today?\"\n",
    "x=\"Hello\"\n",
    "if p.startswith(x):\n",
    "    print(\"The starting of the string is:\",x)\n",
    "else:\n",
    "    print(\"he Text does not start with:\",x)"
   ]
  },
  {
   "cell_type": "code",
   "execution_count": 30,
   "id": "91505655-b21c-4595-9e2e-43b5bdfa67f9",
   "metadata": {},
   "outputs": [
    {
     "name": "stdout",
     "output_type": "stream",
     "text": [
      "The input string ends with the given suffix: True\n"
     ]
    }
   ],
   "source": [
    "#18Check if a string ends with a specific word or phrase.\n",
    "str = \"Hello!Welcome to Tutorialspoint.\";\n",
    "suffix = \"oint.\";\n",
    "result=str.endswith(suffix)\n",
    "print(\"The input string ends with the given suffix:\", result)"
   ]
  },
  {
   "cell_type": "code",
   "execution_count": 32,
   "id": "2aa364d6-f6c2-4ce6-8c70-58993b73cd54",
   "metadata": {},
   "outputs": [
    {
     "name": "stdout",
     "output_type": "stream",
     "text": [
      "I Am Happy\n"
     ]
    }
   ],
   "source": [
    "#19  Convert a string to title case (e.g., \"hello world\" to \"Hello World\").\n",
    "H=\"i am happy\"\n",
    "print(H.title())\n",
    "\n"
   ]
  },
  {
   "cell_type": "code",
   "execution_count": 36,
   "id": "7d3840cd-71d1-4ecf-8ac1-435a55efdab6",
   "metadata": {},
   "outputs": [
    {
     "name": "stdout",
     "output_type": "stream",
     "text": [
      "The longest word in the string is: haripriya\n"
     ]
    }
   ],
   "source": [
    "#20 Find the longest word in a string.\n",
    "p=\"my name is haripriya\"\n",
    "a=max(p.split(),key=len)\n",
    "print(\"The longest word in the string is:\",a)\n",
    "      "
   ]
  },
  {
   "cell_type": "code",
   "execution_count": 48,
   "id": "8cd5cbea-dcec-41c3-9edb-17051278b8a4",
   "metadata": {},
   "outputs": [
    {
     "name": "stdout",
     "output_type": "stream",
     "text": [
      "The shortest word in the text is: a\n"
     ]
    }
   ],
   "source": [
    "#21.Find the shortest word in a string.\n",
    "text = \"This is a sample sentence with some short words.\"\n",
    "\n",
    "words = text.split()\n",
    "\n",
    "shortest_word = words[0]  # Initialize with the first word\n",
    "for word in words:\n",
    "    if len(word) < len(shortest_word):\n",
    "        shortest_word = word\n",
    "\n",
    "print(f\"The shortest word in the text is: {shortest_word}\")"
   ]
  },
  {
   "cell_type": "code",
   "execution_count": 53,
   "id": "1c467ad6-4b0f-4ce7-9a79-fd6cb7829cc8",
   "metadata": {},
   "outputs": [
    {
     "name": "stdout",
     "output_type": "stream",
     "text": [
      "codes a writing am i\n"
     ]
    }
   ],
   "source": [
    "#22.Reverse the order of words in a string.\n",
    "p=\" i am writing a codes\"\n",
    "print(' '.join(p.split()[::-1]))"
   ]
  },
  {
   "cell_type": "code",
   "execution_count": 56,
   "id": "3cc280ed-6b6d-4c2a-b1a7-e6ec7da78c92",
   "metadata": {},
   "outputs": [
    {
     "name": "stdout",
     "output_type": "stream",
     "text": [
      "The string is alphanumeric.\n"
     ]
    }
   ],
   "source": [
    "#23.Check if a string is alphanumeric.\n",
    "h=\"Haripriya1p23\"\n",
    "if h.isalnum():\n",
    "    print(\"The string is alphanumeric.\")\n",
    "else:\n",
    "    print(\"The string is not alphanumeric.\")\n",
    "          "
   ]
  },
  {
   "cell_type": "code",
   "execution_count": 60,
   "id": "5518c822-e3e9-4992-ad66-70ccc5bb7e06",
   "metadata": {},
   "outputs": [
    {
     "name": "stdout",
     "output_type": "stream",
     "text": [
      "['1', '2', '3', '4', '5', '6']\n"
     ]
    }
   ],
   "source": [
    "#24.Extract all digits from a string.\n",
    "p=\"helloworld123456\"\n",
    "digits = [char for char in p if char.isdigit()]\n",
    "print(digits)"
   ]
  },
  {
   "cell_type": "code",
   "execution_count": 63,
   "id": "cd21601d-a513-4a3d-8dd0-b707ef5faad9",
   "metadata": {},
   "outputs": [
    {
     "name": "stdout",
     "output_type": "stream",
     "text": [
      "['h', 'e', 'l', 'l', 'o', 'w', 'o', 'r', 'l', 'd']\n"
     ]
    }
   ],
   "source": [
    "#25.Extract all alphabets from a string.\n",
    "p=\"helloworld123456\"\n",
    "h=[char for char in p if char.isalpha()]\n",
    "print(h)"
   ]
  },
  {
   "cell_type": "code",
   "execution_count": 69,
   "id": "62a7c356-0a57-4937-aecc-138312881f73",
   "metadata": {},
   "outputs": [
    {
     "name": "stdout",
     "output_type": "stream",
     "text": [
      "The number of uppercase letters is: 2\n"
     ]
    }
   ],
   "source": [
    "#26.Count the number of uppercase letters in a string.\n",
    "text = \"HelloWorld123\"\n",
    "\n",
    "uppercase = 0\n",
    "\n",
    "for char in text:\n",
    "    if char.isupper():\n",
    "        uppercase+= 1\n",
    "\n",
    "print(f\"The number of uppercase letters is:\",uppercase)\n"
   ]
  },
  {
   "cell_type": "code",
   "execution_count": 71,
   "id": "518b418f-6806-45d3-8a1a-78973f1ab504",
   "metadata": {},
   "outputs": [
    {
     "name": "stdout",
     "output_type": "stream",
     "text": [
      "The no.of lowercase letters is: 8\n"
     ]
    }
   ],
   "source": [
    "#27.Count the number of lowercase letters in a string.\n",
    "text=\"HelloWorld123\"\n",
    "lowercase=0\n",
    "for char in text:\n",
    "    if char.islower():\n",
    "        lowercase+=1\n",
    "print(\"The no.of lowercase letters is:\" ,lowercase)"
   ]
  },
  {
   "cell_type": "code",
   "execution_count": 73,
   "id": "b7317ba4-3b05-45cd-a85c-bf560968145d",
   "metadata": {},
   "outputs": [
    {
     "name": "stdout",
     "output_type": "stream",
     "text": [
      "hELLOwORLD123\n"
     ]
    }
   ],
   "source": [
    "#28.Swap the case of each character in a string.\n",
    "p=\"HelloWorld123\"\n",
    "swap=p.swapcase()\n",
    "print(swap)\n"
   ]
  },
  {
   "cell_type": "code",
   "execution_count": 77,
   "id": "08868912-dec3-4f5d-b9e3-1a512e9757c5",
   "metadata": {},
   "outputs": [
    {
     "name": "stdout",
     "output_type": "stream",
     "text": [
      "Remove a specific   from a string.\n"
     ]
    }
   ],
   "source": [
    "#29 Remove a specific word from a string.\n",
    "i=\"Remove a specific word from a string.\"\n",
    "print(i.replace(\"word\", ' ' ))"
   ]
  },
  {
   "cell_type": "code",
   "execution_count": 83,
   "id": "bc28f4be-a15d-4103-8ed9-743db739d86a",
   "metadata": {},
   "outputs": [
    {
     "name": "stdout",
     "output_type": "stream",
     "text": [
      "Valid email address\n"
     ]
    }
   ],
   "source": [
    "#30.Check if a string is a valid email address.\n",
    "import re  \n",
    "  \n",
    "def validate_email(email):  \n",
    "    if re.match(r\"[^@]+@[^@]+\\.[^@]+\", email):  \n",
    "        return True  \n",
    "    return False  \n",
    "  \n",
    "email = \"haripriya@gmail.com\"  \n",
    "if validate_email(email):  \n",
    "    print(\"Valid email address\")  \n",
    "else:  \n",
    "    print(\"Invalid email address\")  "
   ]
  },
  {
   "cell_type": "code",
   "execution_count": 86,
   "id": "6610ff71-f064-439e-995c-59b7d71109a7",
   "metadata": {},
   "outputs": [
    {
     "name": "stdout",
     "output_type": "stream",
     "text": [
      "haripriya\n"
     ]
    }
   ],
   "source": [
    "#31.Extract the username from an email address string.\n",
    "gmail=\"haripriya@gmail.com\"\n",
    "print(gmail.split('@')[0])"
   ]
  },
  {
   "cell_type": "code",
   "execution_count": 2,
   "id": "7d47dc22-1638-4757-b346-055656163a40",
   "metadata": {},
   "outputs": [
    {
     "name": "stdout",
     "output_type": "stream",
     "text": [
      "gmail.com\n"
     ]
    }
   ],
   "source": [
    "#32 Extract the domain name from an email address string.\n",
    "gmail=\"haripriya@gmail.com\"\n",
    "print(gmail.split('@')[-1])"
   ]
  },
  {
   "cell_type": "code",
   "execution_count": 6,
   "id": "82e241b6-774f-4142-b588-e02303da5458",
   "metadata": {},
   "outputs": [
    {
     "name": "stdout",
     "output_type": "stream",
     "text": [
      "Replace multiple spaces in a string with a single space.\n"
     ]
    }
   ],
   "source": [
    "#33 Replace multiple spaces in a string with a single space.\n",
    "string=\"Replace     multiple spaces in   a string with a single space.\"\n",
    "P=string.split()\n",
    "print(' '.join(P))\n"
   ]
  },
  {
   "cell_type": "code",
   "execution_count": null,
   "id": "3252a68a-47b3-4a27-a147-7246646f0ecc",
   "metadata": {},
   "outputs": [],
   "source": []
  }
 ],
 "metadata": {
  "kernelspec": {
   "display_name": "Python 3 (ipykernel)",
   "language": "python",
   "name": "python3"
  },
  "language_info": {
   "codemirror_mode": {
    "name": "ipython",
    "version": 3
   },
   "file_extension": ".py",
   "mimetype": "text/x-python",
   "name": "python",
   "nbconvert_exporter": "python",
   "pygments_lexer": "ipython3",
   "version": "3.10.8"
  }
 },
 "nbformat": 4,
 "nbformat_minor": 5
}
