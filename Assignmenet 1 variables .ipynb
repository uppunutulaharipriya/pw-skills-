{
 "cells": [
  {
   "cell_type": "code",
   "execution_count": 1,
   "id": "1cbd82af-ba83-45bf-bdc0-fa65efa4b829",
   "metadata": {},
   "outputs": [
    {
     "name": "stdout",
     "output_type": "stream",
     "text": [
      "The value of after swapping: 23\n",
      "The value of atter swapping: 10\n"
     ]
    }
   ],
   "source": [
    "# 1. swapping of variables \n",
    "x=10\n",
    "y=23\n",
    "x,y=y,x\n",
    "print(\"The value of after swapping:\" ,x)\n",
    "print(\"The value of atter swapping:\" ,y)"
   ]
  },
  {
   "cell_type": "code",
   "execution_count": 13,
   "id": "08b54333-526d-4e7e-a12b-ae9e31bc2f7e",
   "metadata": {},
   "outputs": [
    {
     "name": "stdin",
     "output_type": "stream",
     "text": [
      "Enter the width value:  23\n",
      "Enter the length value:  32\n"
     ]
    },
    {
     "name": "stdout",
     "output_type": "stream",
     "text": [
      "Area of rectangle = 736\n"
     ]
    }
   ],
   "source": [
    "# 2. Area of rectangle formula is Area= width*Length\n",
    "width=int(input(\"Enter the width value: \"))\n",
    "\n",
    "Length=int(input(\"Enter the length value: \"))\n",
    "#Formula for Area of nrectangle \n",
    "Area=width*Length\n",
    "print(\"Area of rectangle\" ,\"=\", Area)\n",
    "          \n"
   ]
  },
  {
   "cell_type": "code",
   "execution_count": 22,
   "id": "60bf7585-2ff3-4a21-8c65-3e5841e4edeb",
   "metadata": {},
   "outputs": [
    {
     "name": "stdin",
     "output_type": "stream",
     "text": [
      "Temperature value in degree Celsius:  32\n"
     ]
    },
    {
     "name": "stdout",
     "output_type": "stream",
     "text": [
      "The 32.00 degree Celsius is equal to: 89.60 Fahrenheit\n"
     ]
    }
   ],
   "source": [
    "#3. covertinf Celsius to Fahrenheit\n",
    "celsius = float (input(\"Temperature value in degree Celsius: \" ))  \n",
    "Fahrenheit = (celsius * 9/5) + 32  \n",
    "# print the result  \n",
    "print ('The %.2f degree Celsius is equal to: %.2f Fahrenheit'  %(celsius, Fahrenheit))   "
   ]
  },
  {
   "cell_type": "code",
   "execution_count": 26,
   "id": "9ea05bdb-4fa2-4835-a8a9-67545a8ab40a",
   "metadata": {},
   "outputs": [
    {
     "name": "stdin",
     "output_type": "stream",
     "text": [
      "Enter the string: Haripriya\n"
     ]
    },
    {
     "name": "stdout",
     "output_type": "stream",
     "text": [
      " Length of string is : 9\n"
     ]
    }
   ],
   "source": [
    "#Steing based questions \n",
    "#1.Peints len of string \n",
    "a=str(input(\"Enter the string:\" ))\n",
    "print(\" Length of string is :\",len(a))\n"
   ]
  },
  {
   "cell_type": "code",
   "execution_count": 34,
   "id": "e3a90913-2a4b-405d-939f-d856ac9a1ff8",
   "metadata": {},
   "outputs": [
    {
     "name": "stdin",
     "output_type": "stream",
     "text": [
      "Enter the string: Haripriya is a good gril\n"
     ]
    },
    {
     "name": "stdout",
     "output_type": "stream",
     "text": [
      "The number of vowels in the string are: 9\n"
     ]
    }
   ],
   "source": [
    "#2.Counting Number of vowels in a string \n",
    "h=str(input(\"Enter the string:\" ))\n",
    "vowels=\"aeiouAEIOU\"\n",
    "count = sum(h.count(vowel) for vowel in vowels)\n",
    "print(\"The number of vowels in the string are:\" ,count)\n"
   ]
  },
  {
   "cell_type": "code",
   "execution_count": 35,
   "id": "8ab159c8-15fb-4487-b08e-684d0dc869b3",
   "metadata": {},
   "outputs": [
    {
     "name": "stdout",
     "output_type": "stream",
     "text": [
      "NOHTYP\n"
     ]
    }
   ],
   "source": [
    "#3.reverse the string \n",
    "string=\"PYTHON\"\n",
    "print(string[::-1])\n"
   ]
  },
  {
   "cell_type": "code",
   "execution_count": 37,
   "id": "6b8b8875-c8a2-4da4-a0c0-68284103e8e9",
   "metadata": {},
   "outputs": [
    {
     "name": "stdout",
     "output_type": "stream",
     "text": [
      "The string is palindrome.\n"
     ]
    }
   ],
   "source": [
    "#4.palindrome\n",
    "a=\"MALAYALAM\"\n",
    "R=reversed(a)\n",
    "if(list(a)==list(R)):\n",
    " print(\"The string is palindrome.\")\n",
    "else:\n",
    "  print(\"The string is not palindrome.\")"
   ]
  },
  {
   "cell_type": "code",
   "execution_count": 40,
   "id": "5af616b3-962f-4dd8-a601-e93f0bdc5e93",
   "metadata": {},
   "outputs": [
    {
     "name": "stdout",
     "output_type": "stream",
     "text": [
      "After removing white space: Removewhitespacesfromstring\n"
     ]
    }
   ],
   "source": [
    "#5.removing blank space \n",
    "h=\"Remove white spaces from string\"\n",
    "h=h.replace(\" \",\"\")\n",
    "print(\"After removing white space:\",h)"
   ]
  },
  {
   "cell_type": "code",
   "execution_count": null,
   "id": "84d46238-751f-421d-8c66-bc8adc3f9b44",
   "metadata": {},
   "outputs": [],
   "source": []
  },
  {
   "cell_type": "code",
   "execution_count": null,
   "id": "b3abed6c-dedc-4849-88c8-e8de6e5088f7",
   "metadata": {},
   "outputs": [],
   "source": []
  }
 ],
 "metadata": {
  "kernelspec": {
   "display_name": "Python 3 (ipykernel)",
   "language": "python",
   "name": "python3"
  },
  "language_info": {
   "codemirror_mode": {
    "name": "ipython",
    "version": 3
   },
   "file_extension": ".py",
   "mimetype": "text/x-python",
   "name": "python",
   "nbconvert_exporter": "python",
   "pygments_lexer": "ipython3",
   "version": "3.10.8"
  }
 },
 "nbformat": 4,
 "nbformat_minor": 5
}
