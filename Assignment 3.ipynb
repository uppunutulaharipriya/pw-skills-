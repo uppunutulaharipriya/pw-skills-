{
 "cells": [
  {
   "cell_type": "code",
   "execution_count": 6,
   "id": "d56e6c8a-dc5c-41d9-ba57-5b1592006972",
   "metadata": {},
   "outputs": [
    {
     "name": "stdout",
     "output_type": "stream",
     "text": [
      "1\n",
      "2\n",
      "3\n",
      "4\n",
      "5\n",
      "6\n",
      "7\n",
      "8\n",
      "9\n",
      "10\n"
     ]
    }
   ],
   "source": [
    "#Write a Python program to print the numbers from 1 to 10 using a `for` loop.\n",
    "for number in range(1,11):\n",
    "    print(number)\n"
   ]
  },
  {
   "cell_type": "code",
   "execution_count": 9,
   "id": "608ba518-f834-4244-8a4a-f081c6972827",
   "metadata": {},
   "outputs": [
    {
     "name": "stdout",
     "output_type": "stream",
     "text": [
      "Sum of numbers = 6\n"
     ]
    }
   ],
   "source": [
    "#2.Create a program that calculates the sum of all numbers in a list using a `for` loop.'\n",
    "x=[1,2,3]\n",
    "y=0\n",
    "for x in x:\n",
    "    y+=x\n",
    "print(\"Sum of numbers =\",y)"
   ]
  },
  {
   "cell_type": "code",
   "execution_count": 5,
   "id": "b8b2f4f7-c125-4ab6-9c9a-a176ad09964c",
   "metadata": {},
   "outputs": [
    {
     "name": "stdin",
     "output_type": "stream",
     "text": [
      "Enter a string:  haripriya\n"
     ]
    },
    {
     "name": "stdout",
     "output_type": "stream",
     "text": [
      "Reversed string: ayirpirah\n"
     ]
    }
   ],
   "source": [
    "#3.3. Write a program to print the characters of a string in reverse order using a `for` loop.\n",
    "input_string = input(\"Enter a string: \")\n",
    "\n",
    "# Use slicing to reverse the string and print it\n",
    "reversed_string = input_string[::-1]\n",
    "\n",
    "print(\"Reversed string:\", reversed_string)"
   ]
  },
  {
   "cell_type": "code",
   "execution_count": 10,
   "id": "7225700d-35bc-43b8-8fa1-6a229ccf5866",
   "metadata": {},
   "outputs": [
    {
     "name": "stdin",
     "output_type": "stream",
     "text": [
      "Enter the input 7\n"
     ]
    },
    {
     "name": "stdout",
     "output_type": "stream",
     "text": [
      "The factorial of 7 is 5040\n"
     ]
    }
   ],
   "source": [
    "#4.Develop a program that finds the factorial of a given number using a `for` loop.\n",
    "n=int(input(\"Enter the input\"))\n",
    "f=1\n",
    "for i in range(1,n+1):\n",
    "    f*=i\n",
    "print(f\"The factorial of {n} is {f}\")\n"
   ]
  },
  {
   "cell_type": "code",
   "execution_count": 14,
   "id": "b5da5278-891f-43d9-b796-8dbcee8a773e",
   "metadata": {},
   "outputs": [
    {
     "name": "stdin",
     "output_type": "stream",
     "text": [
      "Enter the number 5\n"
     ]
    },
    {
     "name": "stdout",
     "output_type": "stream",
     "text": [
      "5\n",
      "10\n",
      "15\n",
      "20\n",
      "25\n",
      "30\n",
      "35\n",
      "40\n",
      "45\n",
      "50\n"
     ]
    }
   ],
   "source": [
    "#5.Create a program to print the multiplication table of a given number using a `for` loop.'\n",
    "number=int(input(\"Enter the number\"))\n",
    "start=1\n",
    "end=10\n",
    "for i in range(start,end+1):\n",
    "    r=number*i\n",
    "    print(r)\n",
    "\n",
    "           "
   ]
  },
  {
   "cell_type": "code",
   "execution_count": 20,
   "id": "ef61cc3f-562a-42e4-b490-5c8de89b5626",
   "metadata": {},
   "outputs": [
    {
     "name": "stdout",
     "output_type": "stream",
     "text": [
      "The number is Odd number\n",
      "The number is Even number\n",
      "The number is Odd number\n",
      "The number is Even number\n",
      "The number is Odd number\n",
      "The number is Even number\n",
      "The number is Odd number\n",
      "The number is Even number\n",
      "The number is Odd number\n"
     ]
    }
   ],
   "source": [
    "#6.Write a program that counts the number of even and odd numbers in a list using a `for` loop.'\n",
    "numbers=[1,2,3,4,5,6,7,8,9]\n",
    "even=0\n",
    "odd=0\n",
    "for numbers in numbers:\n",
    "    if numbers%2==0:\n",
    "        print(\"The number is Even number\")\n",
    "    else:\n",
    "        print(\"The number is Odd number\")"
   ]
  },
  {
   "cell_type": "code",
   "execution_count": 25,
   "id": "0586900e-e183-4b27-ae59-3ca0cc312e7c",
   "metadata": {},
   "outputs": [
    {
     "name": "stdout",
     "output_type": "stream",
     "text": [
      "1\n",
      "4\n",
      "9\n",
      "16\n",
      "25\n"
     ]
    }
   ],
   "source": [
    "#7.Develop a program that prints the squares of numbers from 1 to 5 using a `for` loop.\n",
    "n=[1,2,3,4,5]\n",
    "for n in n:\n",
    "    print(n*n)\n",
    "    \n"
   ]
  },
  {
   "cell_type": "code",
   "execution_count": 29,
   "id": "8f9c4260-12dd-4647-a6a7-cf06916b8f8f",
   "metadata": {},
   "outputs": [
    {
     "name": "stdout",
     "output_type": "stream",
     "text": [
      "Length of String 9\n"
     ]
    }
   ],
   "source": [
    "#8.Create a program to find the length of a string without using the `len()` function.\n",
    "p=\"haripriya\"\n",
    "l=0\n",
    "for char in p:\n",
    "    l+=1\n",
    "print(\"Length of String\",l)\n"
   ]
  },
  {
   "cell_type": "code",
   "execution_count": 41,
   "id": "613a9943-5628-4f2b-982a-b1c68126da86",
   "metadata": {},
   "outputs": [
    {
     "name": "stdout",
     "output_type": "stream",
     "text": [
      "The average of the numbers is: 3.0\n"
     ]
    }
   ],
   "source": [
    "#9.Write a program that calculates the average of a list of numbers using a `for` loop.\n",
    "numbers = [1, 2, 3, 4, 5]\n",
    "\n",
    "# Initialize variables for sum and count\n",
    "total = 0\n",
    "count = 0\n",
    "\n",
    "# Use a for loop to calculate the sum of numbers and count\n",
    "for number in numbers:\n",
    "    total += number  # Add the current number to the total sum\n",
    "    count += 1      # Increment the count\n",
    "\n",
    "# Calculate the average\n",
    "average = total / count\n",
    "\n",
    "# Print the average\n",
    "print(\"The average of the numbers is:\", average)\n",
    "   "
   ]
  },
  {
   "cell_type": "code",
   "execution_count": 42,
   "id": "fb073186-dd31-4237-aa2e-bb31a93f2aea",
   "metadata": {},
   "outputs": [
    {
     "name": "stdin",
     "output_type": "stream",
     "text": [
      "Enter the number of Fibonacci numbers to generate:  5\n"
     ]
    },
    {
     "name": "stdout",
     "output_type": "stream",
     "text": [
      "0\n",
      "1\n",
      "1\n",
      "2\n",
      "3\n"
     ]
    }
   ],
   "source": [
    "#10.Develop a program that prints the first `n` Fibonacci numbers using a `for` loop.\n",
    "# Input the number of Fibonacci numbers to generate\n",
    "n = int(input(\"Enter the number of Fibonacci numbers to generate: \"))\n",
    "\n",
    "# Initialize the first two Fibonacci numbers\n",
    "a, b = 0, 1\n",
    "\n",
    "# Print the first two numbers\n",
    "print(a)\n",
    "print(b)\n",
    "\n",
    "# Use a for loop to generate and print the remaining Fibonacci numbers\n",
    "for _ in range(2, n):\n",
    "    a, b = b, a + b\n",
    "    print(b)"
   ]
  }
 ],
 "metadata": {
  "kernelspec": {
   "display_name": "Python 3 (ipykernel)",
   "language": "python",
   "name": "python3"
  },
  "language_info": {
   "codemirror_mode": {
    "name": "ipython",
    "version": 3
   },
   "file_extension": ".py",
   "mimetype": "text/x-python",
   "name": "python",
   "nbconvert_exporter": "python",
   "pygments_lexer": "ipython3",
   "version": "3.10.8"
  }
 },
 "nbformat": 4,
 "nbformat_minor": 5
}
