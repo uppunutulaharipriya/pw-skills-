{
 "cells": [
  {
   "cell_type": "code",
   "execution_count": null,
   "id": "441e1b65-752d-4e3d-9a3e-f57d367fd6da",
   "metadata": {},
   "outputs": [],
   "source": [
    "#1.Write a Python program to check if a given number is positive or negative.\n",
    "Number=int(input(\"Enter the Number:\"))\n",
    "if Number  > 0 :\n",
    "    print(\"The Number is Positive\")\n",
    "elif Number <0:\n",
    "    print(\"The Number is Negative\")\n",
    "else :\n",
    "    print(\"The number is Zero\")\n",
    "    "
   ]
  },
  {
   "cell_type": "code",
   "execution_count": 15,
   "id": "68bff33f-9def-4683-ab8d-e9b69769378c",
   "metadata": {},
   "outputs": [
    {
     "name": "stdin",
     "output_type": "stream",
     "text": [
      "Enter the age of person: 18\n"
     ]
    },
    {
     "name": "stdout",
     "output_type": "stream",
     "text": [
      "The person is Eligible for Vote\n"
     ]
    }
   ],
   "source": [
    "#2.Create a program that determines if a person is eligible to vote based on their age.\n",
    "age = int(input(\"Enter the age of person:\"))\n",
    "if age >=18:\n",
    "    print(\"The person is Eligible for Vote\")\n",
    "else:\n",
    "    print(\"The age of person is not sufficient for vote\")\n"
   ]
  },
  {
   "cell_type": "code",
   "execution_count": null,
   "id": "34617390-0075-4419-b790-6f45795288b6",
   "metadata": {},
   "outputs": [],
   "source": [
    "#3.Develop a program to find the maximum of two numbers using if-else statements.\n",
    "n1=float(input(\"Enter the first number:\"))\n",
    "n2=float(input(\"Enter the second number:\"))\n",
    "if n1>n2:\n",
    "    Max_Number=n1\n",
    "else :\n",
    "    Max_Number=n2\n",
    "print(\"The Maximum Number is:\",Max_Number)"
   ]
  },
  {
   "cell_type": "code",
   "execution_count": 1,
   "id": "84a19d7c-239d-4008-abc0-231c7b7873a5",
   "metadata": {},
   "outputs": [
    {
     "name": "stdin",
     "output_type": "stream",
     "text": [
      "Enter the year 2008\n"
     ]
    },
    {
     "name": "stdout",
     "output_type": "stream",
     "text": [
      "Entered year is Leap Year\n"
     ]
    }
   ],
   "source": [
    "#4.Write a Python script to classify a given year as a leap year or not.\n",
    "year=int(input(\"Enter the year\"))\n",
    "if (year%4==0 and year%100!=0)or(year%4==0):\n",
    "    print(\"Entered year is Leap Year\")\n",
    "else:\n",
    "    print(\"Entered year is not Leap Year\")"
   ]
  },
  {
   "cell_type": "code",
   "execution_count": 10,
   "id": "e4756fde-fb89-4e62-9d29-0c63f7a1204c",
   "metadata": {},
   "outputs": [
    {
     "name": "stdin",
     "output_type": "stream",
     "text": [
      "Enter  the character B\n"
     ]
    },
    {
     "name": "stdout",
     "output_type": "stream",
     "text": [
      "Entered Character is consonant\n"
     ]
    }
   ],
   "source": [
    "#5.Create a program that checks whether a character is a vowel or a consonant.\n",
    "h=input(\"Enter  the character\")\n",
    "if h in 'aeiou' :\n",
    "    print(\"Entered Character is Vowel\")\n",
    "else:\n",
    "    print(\"Entered Character is consonant\")"
   ]
  },
  {
   "cell_type": "code",
   "execution_count": 14,
   "id": "d10ca7b7-4323-427a-bdd7-4adefe0d510e",
   "metadata": {},
   "outputs": [
    {
     "name": "stdin",
     "output_type": "stream",
     "text": [
      "Enter the Number 10\n"
     ]
    },
    {
     "name": "stdout",
     "output_type": "stream",
     "text": [
      "Enter number is Even Number\n"
     ]
    }
   ],
   "source": [
    "#6.Implement a program to determine whether a given number is even or odd.\n",
    "Number=float(input(\"Enter the Number\"))\n",
    "if Number%2==0:\n",
    "    print(\"Enter number is Even Number\")\n",
    "else:\n",
    "    print(\"Enter number is Odd Number\")"
   ]
  },
  {
   "cell_type": "code",
   "execution_count": 26,
   "id": "c0fba968-ea62-450c-80f7-be5b3e32bee3",
   "metadata": {},
   "outputs": [
    {
     "name": "stdin",
     "output_type": "stream",
     "text": [
      "Enter number 80\n",
      "Enter number 900\n",
      "Enter number 90000\n"
     ]
    },
    {
     "name": "stdout",
     "output_type": "stream",
     "text": [
      "n3 is largest number\n"
     ]
    }
   ],
   "source": [
    "#8. Develop a program that determines the largest of three given numbers using if-else statements.\n",
    "n1=int(input(\"Enter number\"))\n",
    "n2=int(input(\"Enter number\"))\n",
    "n3=int(input(\"Enter number\"))\n",
    "if n1>=n2 and n1>=n3 :\n",
    "    print(\"n1 is largest number\")\n",
    "elif n2>=n1 and n2>=n3:\n",
    "    print(\"n2 is largest number\")\n",
    "else:\n",
    "    print(\"n3 is largest number\")"
   ]
  },
  {
   "cell_type": "code",
   "execution_count": 34,
   "id": "ec6367aa-cce5-4357-b38d-c146517e2dd9",
   "metadata": {},
   "outputs": [
    {
     "name": "stdin",
     "output_type": "stream",
     "text": [
      "Enter the string noon\n"
     ]
    },
    {
     "name": "stdout",
     "output_type": "stream",
     "text": [
      " The string is palindrome\n"
     ]
    }
   ],
   "source": [
    "#9.Create a program that checks if a given string is a palindrome.\n",
    "c=input(\"Enter the string\")\n",
    "if c==c[::-1]:\n",
    "    print(\" The string is palindrome\")\n",
    "else:\n",
    "    print(\"The string is not palindrome\")"
   ]
  },
  {
   "cell_type": "code",
   "execution_count": 37,
   "id": "5af690be-ffb4-4fd2-92fa-d0f68191d20c",
   "metadata": {},
   "outputs": [
    {
     "name": "stdin",
     "output_type": "stream",
     "text": [
      "Enter the student score 100\n"
     ]
    },
    {
     "name": "stdout",
     "output_type": "stream",
     "text": [
      "The grade of Student A\n"
     ]
    }
   ],
   "source": [
    "#10.Write a Python program to calculate the grade based on a student's score.\n",
    "score=float(input(\"Enter the student score\"))\n",
    "if score >=90:\n",
    "    grade='A'\n",
    "elif score >= 80:\n",
    "    grade='B'\n",
    "elif score >=70:\n",
    "    grade='C'\n",
    "elif score>=60:\n",
    "    grade='D'\n",
    "else:\n",
    "    grade='F'\n",
    "print(\"The grade of Student\",grade)\n",
    "    \n",
    "  "
   ]
  },
  {
   "cell_type": "code",
   "execution_count": null,
   "id": "13f77af4-cfaf-401c-a798-54f60e599312",
   "metadata": {},
   "outputs": [],
   "source": [
    "#"
   ]
  }
 ],
 "metadata": {
  "kernelspec": {
   "display_name": "Python 3 (ipykernel)",
   "language": "python",
   "name": "python3"
  },
  "language_info": {
   "codemirror_mode": {
    "name": "ipython",
    "version": 3
   },
   "file_extension": ".py",
   "mimetype": "text/x-python",
   "name": "python",
   "nbconvert_exporter": "python",
   "pygments_lexer": "ipython3",
   "version": "3.10.8"
  }
 },
 "nbformat": 4,
 "nbformat_minor": 5
}
